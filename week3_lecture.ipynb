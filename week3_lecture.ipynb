{
 "cells": [
  {
   "cell_type": "code",
   "execution_count": 1,
   "id": "d4368834-5b41-4bc8-a37f-3e5d3a2f141b",
   "metadata": {},
   "outputs": [
    {
     "name": "stdout",
     "output_type": "stream",
     "text": [
      "📄 Extracted Text Preview:\n",
      "\n",
      "Physics > Physics Education\n",
      "[Submitted on 3 Feb 2024]\n",
      "Title:Uso de herramientas digitales matemáticas en la Educación Secundaria\n",
      "View PDF HTML (experimental)Abstract:Information and Community Technologies (ICT) are very present in our society nowadays and particularly in the educative field. In just two decades, we have passed from a learning based, in many cases, on the master lessons to one such that methodologies like the flipped classroom or the gamification are stronger than ever. Along this work, we have done a study to teachers and students with the main objective to compare the knowledge on digital tools, their use and their acceptation. We use WxMaxima and Geogebra in order to solve an exercise of \\textit{Evaluación de Bachillerato para el Acceso a la Universidad} (EBAU) related with Geometry, comparing their ins and outs with the manual solution. Finally, we expose some conclusions and some possible research lines about digital tools, as well as a proposition of an introducto\n"
     ]
    }
   ],
   "source": [
    "# ✅ Install dependencies if not already installed\n",
    "# !pip install trafilatura\n",
    "\n",
    "import trafilatura\n",
    "import requests\n",
    "\n",
    "# Example: An arXiv paper abstract page\n",
    "url = \"https://arxiv.org/abs/2404.00001\"\n",
    "\n",
    "# Step 1: Fetch raw HTML\n",
    "response = requests.get(url)\n",
    "html = response.text\n",
    "\n",
    "# Step 2: Use Trafilatura to extract clean text\n",
    "downloaded_text = trafilatura.extract(html, include_comments=False, include_tables=False)\n",
    "\n",
    "# Step 3: Display the result\n",
    "print(\"📄 Extracted Text Preview:\\n\")\n",
    "print(downloaded_text[:1000])  # Show first 1000 characters\n"
   ]
  },
  {
   "cell_type": "code",
   "execution_count": 2,
   "id": "a57e3899-a197-4b62-a3e2-2181c355620a",
   "metadata": {},
   "outputs": [
    {
     "name": "stdout",
     "output_type": "stream",
     "text": [
      "📄 Tesseract OCR Output (first 500 chars):\n",
      "a 4: Leading intelligence.\n",
      "\n",
      "Unrivaled speed and efficiency.\n",
      "\n",
      "The most accessible and scalable generation of Llama is here.\n",
      "Native multimodality, mixture-of-experts models, super long\n",
      "context windows, step changes in performance, and\n",
      "unparalleled efficiency. All in easy-to-deploy sizes custom fit for\n",
      "how you want to use it.\n",
      "\n"
     ]
    }
   ],
   "source": [
    "# Install: sudo apt install tesseract-ocr OR !pip install pytesseract Pillow\n",
    "import pytesseract\n",
    "from PIL import Image\n",
    "\n",
    "# Load and preprocess image (convert to grayscale)\n",
    "image = Image.open(\"./test_data/image/image.png\").convert(\"L\")  # grayscale\n",
    "text = pytesseract.image_to_string(image)\n",
    "\n",
    "print(\"📄 Tesseract OCR Output (first 500 chars):\")\n",
    "print(text[:500])\n"
   ]
  },
  {
   "cell_type": "code",
   "execution_count": 3,
   "id": "59c77b32-53e7-48f9-8258-b931fa7df65d",
   "metadata": {},
   "outputs": [
    {
     "name": "stderr",
     "output_type": "stream",
     "text": [
      "/Users/jianghm/miniconda3/envs/whisper-asr/lib/python3.10/site-packages/whisper/transcribe.py:132: UserWarning: FP16 is not supported on CPU; using FP32 instead\n",
      "  warnings.warn(\"FP16 is not supported on CPU; using FP32 instead\")\n"
     ]
    },
    {
     "name": "stdout",
     "output_type": "stream",
     "text": [
      "📄 Whisper Transcription:\n",
      " At the wui pace or breathing, people practice on the elements, instead of 일반 music, and live there,\n"
     ]
    }
   ],
   "source": [
    "# Install: pip install openai-whisper\n",
    "import whisper\n",
    "\n",
    "# Load model\n",
    "model = whisper.load_model(\"base\")  # or \"small\", \"medium\", \"large\"\n",
    "\n",
    "# Transcribe audio\n",
    "result = model.transcribe(\"./test_data/audio/sample-1.mp3\")\n",
    "print(\"📄 Whisper Transcription:\")\n",
    "print(result[\"text\"])\n"
   ]
  },
  {
   "cell_type": "code",
   "execution_count": null,
   "id": "b67fcc36-c24e-47b6-8e31-2ba49cfa2993",
   "metadata": {},
   "outputs": [],
   "source": []
  },
  {
   "cell_type": "code",
   "execution_count": 2,
   "id": "b6efa48e-a8cc-4014-8f35-4d0630f48471",
   "metadata": {},
   "outputs": [],
   "source": [
    "from datasketch import MinHash, MinHashLSH\n",
    "\n",
    "def minhash_deduplication(texts, threshold=0.7):\n",
    "    lsh = MinHashLSH(threshold=threshold, num_perm=128)\n",
    "    unique_texts = []\n",
    "    for i, doc in enumerate(texts):\n",
    "        m = MinHash(num_perm=128)\n",
    "        for word in set(doc.split()):\n",
    "            m.update(word.encode('utf8'))\n",
    "        if not lsh.query(m):\n",
    "            lsh.insert(f\"doc{i}\", m)\n",
    "            unique_texts.append(doc)\n",
    "    return unique_texts\n",
    "    "
   ]
  },
  {
   "cell_type": "code",
   "execution_count": 3,
   "id": "1b0d0840-2786-4b46-a8a5-ac5b24a704bc",
   "metadata": {},
   "outputs": [],
   "source": [
    "from langdetect import detect\n",
    "from bs4 import BeautifulSoup\n",
    "\n",
    "def clean_html_and_filter_lang(texts, lang='en'):\n",
    "    filtered = []\n",
    "    for txt in texts:\n",
    "        txt = BeautifulSoup(txt, 'html.parser').get_text()\n",
    "        try:\n",
    "            if detect(txt.strip()) == lang:\n",
    "                filtered.append(txt.strip())\n",
    "        except:\n",
    "            continue\n",
    "    return filtered\n",
    "    "
   ]
  },
  {
   "cell_type": "code",
   "execution_count": 4,
   "id": "ba964478-0f35-4a47-9765-4495c44c0c60",
   "metadata": {},
   "outputs": [],
   "source": [
    "import re\n",
    "\n",
    "def strip_pii(text):\n",
    "    text = re.sub(r'[\\w\\.-]+@[\\w\\.-]+', '[EMAIL]', text)\n",
    "    text = re.sub(r'\\b\\d{12,19}\\b', '[CREDIT_CARD]', text)\n",
    "    text = re.sub(r'\\b(?:\\d{3}-){2}\\d{4}\\b', '[PHONE]', text)\n",
    "    return text\n",
    "    "
   ]
  },
  {
   "cell_type": "code",
   "execution_count": 5,
   "id": "e3975ebc-8520-48f8-962e-68f026779923",
   "metadata": {},
   "outputs": [],
   "source": [
    "import re\n",
    "from collections import Counter\n",
    "\n",
    "def remove_repetitive_ngrams(text, n=3, threshold=3):\n",
    "    words = text.split()\n",
    "    ngrams = [' '.join(words[i:i+n]) for i in range(len(words)-n+1)]\n",
    "\n",
    "    counts = Counter(ngrams)\n",
    "    repetitive = [ngram for ngram, count in counts.items() if count >= threshold]\n",
    "\n",
    "    for phrase in repetitive:\n",
    "        # regex-safe version of the phrase\n",
    "        escaped_phrase = re.escape(phrase)\n",
    "        # match the phrase repeated 2+ times with optional whitespace\n",
    "        text = re.sub(rf'(?:{escaped_phrase}\\s*){{{threshold},}}', phrase + ' ', text)\n",
    "\n",
    "    # Remove extra spaces\n",
    "    text = re.sub(r'\\s{2,}', ' ', text).strip()\n",
    "    return text\n"
   ]
  },
  {
   "cell_type": "code",
   "execution_count": 9,
   "id": "a505893b-01d1-4d17-ba39-4067f7b482cd",
   "metadata": {},
   "outputs": [
    {
     "name": "stdout",
     "output_type": "stream",
     "text": [
      "0    Hello! Contact us at support@data.org or call ...\n",
      "1    Hola! Este artículo está completamente en espa...\n",
      "2    <html><body><div><h1>Breaking News</h1><p>This...\n",
      "3    Buy now! Best product ever. Best product ever....\n",
      "4    Python 3.14 introduces several improvements in...\n",
      "5    Python 3.14 introduces several improvements in...\n",
      "6    <div>For inquiries, email jane_doe@example.com...\n",
      "7    Large Language Models are transforming the AI ...\n",
      "8                  这是一个包含有用技术信息的中文段落。电话号码：010-12345678\n",
      "9    Buy now! Best product ever. Best product ever....\n",
      "Name: Raw Text, dtype: object\n"
     ]
    }
   ],
   "source": [
    "import pandas as pd\n",
    "fake_texts = pd.read_csv(\"test_data/data/Fake_Pretraining_Texts.csv\")\n",
    "raw_dataset = fake_texts[\"Raw Text\"]\n",
    "print(raw_dataset)\n"
   ]
  },
  {
   "cell_type": "code",
   "execution_count": 10,
   "id": "60313bee-c821-4616-bafd-b999dcda855f",
   "metadata": {},
   "outputs": [
    {
     "data": {
      "text/plain": [
       "['Hello! Contact us at support@data.org or call 123-456-7890. Your credit card 4111111111111111 was declined. This message is intended only for the recipient. Visit our site for more.',\n",
       " 'Breaking NewsThis is a major event!Contact us',\n",
       " 'Buy now! Best product ever. Best product ever. Best product ever.',\n",
       " 'Python 3.14 introduces several improvements including better error messages. Learn more on the official site.',\n",
       " 'Python 3.14 introduces several improvements including better error messages. Learn more on the official docs.',\n",
       " 'Large Language Models are transforming the AI landscape with few-shot capabilities.',\n",
       " 'Buy now! Best product ever. Best product ever. Best product ever.']"
      ]
     },
     "metadata": {},
     "output_type": "display_data"
    }
   ],
   "source": [
    "# Step 1: Remove HTML + Language Filter\n",
    "step1 = clean_html_and_filter_lang(raw_dataset)\n",
    "display(step1)\n"
   ]
  },
  {
   "cell_type": "code",
   "execution_count": 11,
   "id": "f7e33c6f-6286-47bd-b101-a00387d8be01",
   "metadata": {},
   "outputs": [
    {
     "data": {
      "text/plain": [
       "['Hello! Contact us at support@data.org or call 123-456-7890. Your credit card 4111111111111111 was declined. This message is intended only for the recipient. Visit our site for more.',\n",
       " 'Breaking NewsThis is a major event!Contact us',\n",
       " 'Buy now! Best product ever. Best product ever. Best product ever.',\n",
       " 'Python 3.14 introduces several improvements including better error messages. Learn more on the official site.',\n",
       " 'Large Language Models are transforming the AI landscape with few-shot capabilities.']"
      ]
     },
     "metadata": {},
     "output_type": "display_data"
    }
   ],
   "source": [
    "# Step 2: Deduplicate Paragraphs\n",
    "step2 = minhash_deduplication(step1)\n",
    "display(step2)\n"
   ]
  },
  {
   "cell_type": "code",
   "execution_count": 12,
   "id": "9973a2a6-70e3-40cc-9765-012f84f6046b",
   "metadata": {},
   "outputs": [
    {
     "data": {
      "text/plain": [
       "['Hello! Contact us at [EMAIL] or call [PHONE]. Your credit card [CREDIT_CARD] was declined. This message is intended only for the recipient. Visit our site for more.',\n",
       " 'Breaking NewsThis is a major event!Contact us',\n",
       " 'Buy now! Best product ever. Best product ever. Best product ever.',\n",
       " 'Python 3.14 introduces several improvements including better error messages. Learn more on the official site.',\n",
       " 'Large Language Models are transforming the AI landscape with few-shot capabilities.']"
      ]
     },
     "metadata": {},
     "output_type": "display_data"
    }
   ],
   "source": [
    "# Step 3: Strip PII\n",
    "step3 = [strip_pii(t) for t in step2]\n",
    "display(step3)\n"
   ]
  },
  {
   "cell_type": "code",
   "execution_count": 13,
   "id": "9daf9e58-a0a7-43e7-854b-ae5b57fc11d6",
   "metadata": {},
   "outputs": [
    {
     "data": {
      "text/plain": [
       "['Hello! Contact us at [EMAIL] or call [PHONE]. Your credit card [CREDIT_CARD] was declined. This message is intended only for the recipient. Visit our site for more.',\n",
       " 'Breaking NewsThis is a major event!Contact us',\n",
       " 'Buy now! Best product ever.',\n",
       " 'Python 3.14 introduces several improvements including better error messages. Learn more on the official site.',\n",
       " 'Large Language Models are transforming the AI landscape with few-shot capabilities.']"
      ]
     },
     "metadata": {},
     "output_type": "display_data"
    }
   ],
   "source": [
    "# Step 4: Remove Repetitive N-grams\n",
    "cleaned_data = [remove_repetitive_ngrams(t) for t in step3]\n",
    "display(cleaned_data)\n"
   ]
  },
  {
   "cell_type": "code",
   "execution_count": 14,
   "id": "e0e895f6-10b6-4d9e-8e6c-ea33984f685a",
   "metadata": {},
   "outputs": [
    {
     "name": "stdout",
     "output_type": "stream",
     "text": [
      "✅ Cleaned dataset sample:\n",
      "--- Article 1 ---\n",
      "Hello! Contact us at [EMAIL] or call [PHONE]. Your credit card [CREDIT_CARD] was declined. This message is intended only for the recipient. Visit our site for more.\n",
      "--- Article 2 ---\n",
      "Breaking NewsThis is a major event!Contact us\n",
      "--- Article 3 ---\n",
      "Buy now! Best product ever.\n",
      "--- Article 4 ---\n",
      "Python 3.14 introduces several improvements including better error messages. Learn more on the official site.\n",
      "--- Article 5 ---\n",
      "Large Language Models are transforming the AI landscape with few-shot capabilities.\n"
     ]
    }
   ],
   "source": [
    "\n",
    "# Done!\n",
    "print(\"✅ Cleaned dataset sample:\")\n",
    "for idx, text in enumerate(cleaned_data):\n",
    "    print(f\"--- Article {idx + 1} ---\")\n",
    "    print(text)\n"
   ]
  },
  {
   "cell_type": "code",
   "execution_count": null,
   "id": "ade1fdaa-efcd-46df-8834-a53c04fb7541",
   "metadata": {},
   "outputs": [],
   "source": []
  }
 ],
 "metadata": {
  "kernelspec": {
   "display_name": "Python 3 (ipykernel)",
   "language": "python",
   "name": "python3"
  },
  "language_info": {
   "codemirror_mode": {
    "name": "ipython",
    "version": 3
   },
   "file_extension": ".py",
   "mimetype": "text/x-python",
   "name": "python",
   "nbconvert_exporter": "python",
   "pygments_lexer": "ipython3",
   "version": "3.10.18"
  }
 },
 "nbformat": 4,
 "nbformat_minor": 5
}
